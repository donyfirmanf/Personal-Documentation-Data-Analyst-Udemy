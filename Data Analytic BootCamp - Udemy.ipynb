{
 "cells": [
  {
   "cell_type": "code",
   "execution_count": 1,
   "id": "d872d948",
   "metadata": {},
   "outputs": [],
   "source": [
    "import pandas as pd"
   ]
  },
  {
   "cell_type": "code",
   "execution_count": 5,
   "id": "61025e24",
   "metadata": {},
   "outputs": [],
   "source": [
    "def competition_rank(results, person):\n",
    "    scores = list(results.values())\n",
    "    for r in results:\n",
    "        results[r] = (results[r],sum(1 for i in scores if i > results[r])+1)\n",
    "    return results[person][1]"
   ]
  },
  {
   "cell_type": "code",
   "execution_count": 6,
   "id": "74f493c3",
   "metadata": {},
   "outputs": [
    {
     "data": {
      "text/plain": [
       "4"
      ]
     },
     "execution_count": 6,
     "metadata": {},
     "output_type": "execute_result"
    }
   ],
   "source": [
    "competition_rank({\"John\": 96, \"Emma\": 95, \"Sara\": 93, \"Kate\": 89, \"Peter\": 82 }, \"Kate\")"
   ]
  },
  {
   "cell_type": "code",
   "execution_count": 7,
   "id": "c9356d39",
   "metadata": {},
   "outputs": [],
   "source": [
    "def is_set(cards):\n",
    "    properties = ['color','number','shade','shape']\n",
    "    set_properties = [len(set(c[p] for c in cards)) for p in properties]\n",
    "    return all(prop == 1 or prop == 3 for prop in set_properties)"
   ]
  },
  {
   "cell_type": "code",
   "execution_count": 12,
   "id": "a8207e7b",
   "metadata": {},
   "outputs": [],
   "source": [
    "prices = {\"Strawberries\" : 2.5, \"Banana\" : 1.5, \"Mango\" : 3.5,\n",
    "\"Blueberries\" : 2, \"Raspberries\" : 3, \"Apple\" : 2.75,\n",
    "\"Pineapple\" : 4.5}\n",
    "class Smoothie:\n",
    "    def __init__(self,ingredients):\n",
    "        self.ingredients = ingredients\n",
    "        self.cost = sum(prices[fruit] for fruit in self.ingredients)\n",
    "        self.price = self.cost * 2.5\n",
    "    def get_cost(self):\n",
    "        return '${:.2f}'.format(self.cost)\n",
    "    def get_price(self):\n",
    "        return '${:.2f}'.format(self.price)\n",
    "    def get_name(self):\n",
    "        lst = sorted(i.replace('ies','y') for i in self.ingredients)\n",
    "        return '{} {}'.format(' '.join(lst), 'Fusion' if len(lst)>1 else 'Smoothie')"
   ]
  },
  {
   "cell_type": "code",
   "execution_count": 14,
   "id": "73e1ac9a",
   "metadata": {},
   "outputs": [
    {
     "data": {
      "text/plain": [
       "['toe', 'ocelot']"
      ]
     },
     "execution_count": 14,
     "metadata": {},
     "output_type": "execute_result"
    }
   ],
   "source": [
    "def same_vowel_group(w):\n",
    "    first = set(w[0]) & set('aeiou')\n",
    "    return [i for i in w if set(i) & set('aeiou') == first]\n",
    "\n",
    "same_vowel_group([\"toe\", \"ocelot\", \"maniac\"])"
   ]
  },
  {
   "cell_type": "code",
   "execution_count": 15,
   "id": "286a9c3d",
   "metadata": {},
   "outputs": [],
   "source": [
    "def grouping(words):\n",
    "    words.sort(key=str.lower)\n",
    "    groups = {}\n",
    "   \n",
    "    for w in words:\n",
    "        cap = sum(map(str.isupper, w))\n",
    "        if cap in groups:\n",
    "            groups[cap].append(w)\n",
    "        else:\n",
    "            groups[cap] = [w]\n",
    "    return groups"
   ]
  },
  {
   "cell_type": "code",
   "execution_count": 32,
   "id": "c566c2c4",
   "metadata": {
    "collapsed": true
   },
   "outputs": [
    {
     "ename": "TypeError",
     "evalue": "'int' object is not iterable",
     "output_type": "error",
     "traceback": [
      "\u001b[1;31m---------------------------------------------------------------------------\u001b[0m",
      "\u001b[1;31mTypeError\u001b[0m                                 Traceback (most recent call last)",
      "Cell \u001b[1;32mIn[32], line 6\u001b[0m\n\u001b[0;32m      4\u001b[0m             \u001b[38;5;28;01mreturn\u001b[39;00m \u001b[38;5;28;01mFalse\u001b[39;00m\n\u001b[0;32m      5\u001b[0m             \u001b[38;5;28;01mreturn\u001b[39;00m \u001b[38;5;28;01mTrue\u001b[39;00m\n\u001b[1;32m----> 6\u001b[0m \u001b[43mblock_jump\u001b[49m\u001b[43m(\u001b[49m\u001b[38;5;241;43m10\u001b[39;49m\u001b[43m,\u001b[49m\u001b[38;5;241;43m12\u001b[39;49m\u001b[43m)\u001b[49m\n",
      "Cell \u001b[1;32mIn[32], line 2\u001b[0m, in \u001b[0;36mblock_jump\u001b[1;34m(blocks_height, jump_height)\u001b[0m\n\u001b[0;32m      1\u001b[0m \u001b[38;5;28;01mdef\u001b[39;00m \u001b[38;5;21mblock_jump\u001b[39m(blocks_height, jump_height):\n\u001b[1;32m----> 2\u001b[0m     \u001b[38;5;28;01mfor\u001b[39;00m i \u001b[38;5;129;01min\u001b[39;00m blocks_height:\n\u001b[0;32m      3\u001b[0m         \u001b[38;5;28;01mif\u001b[39;00m i \u001b[38;5;241m>\u001b[39m jump_height:\n\u001b[0;32m      4\u001b[0m             \u001b[38;5;28;01mreturn\u001b[39;00m \u001b[38;5;28;01mFalse\u001b[39;00m\n",
      "\u001b[1;31mTypeError\u001b[0m: 'int' object is not iterable"
     ]
    }
   ],
   "source": [
    "def block_jump(blocks_height, jump_height):\n",
    "    for i in blocks_height:\n",
    "        if i > jump_height:\n",
    "            return False\n",
    "            return True\n",
    "block_jump(10,12)"
   ]
  },
  {
   "cell_type": "code",
   "execution_count": 28,
   "id": "a03464c7",
   "metadata": {
    "collapsed": true
   },
   "outputs": [
    {
     "ename": "NameError",
     "evalue": "name 'inks' is not defined",
     "output_type": "error",
     "traceback": [
      "\u001b[1;31m---------------------------------------------------------------------------\u001b[0m",
      "\u001b[1;31mNameError\u001b[0m                                 Traceback (most recent call last)",
      "Cell \u001b[1;32mIn[28], line 4\u001b[0m\n\u001b[0;32m      1\u001b[0m \u001b[38;5;28;01mdef\u001b[39;00m \u001b[38;5;21mink_levels\u001b[39m(inks):\n\u001b[0;32m      2\u001b[0m     \u001b[38;5;28;01mreturn\u001b[39;00m \u001b[38;5;28mmin\u001b[39m(inks\u001b[38;5;241m.\u001b[39mvalues())\n\u001b[1;32m----> 4\u001b[0m ink_levels(\u001b[43minks\u001b[49m)\n",
      "\u001b[1;31mNameError\u001b[0m: name 'inks' is not defined"
     ]
    }
   ],
   "source": [
    "def ink_levels(inks):\n",
    "    return min(inks.values())\n",
    "\n",
    "ink_levels(inks)"
   ]
  },
  {
   "cell_type": "code",
   "execution_count": 38,
   "id": "5cb44911",
   "metadata": {},
   "outputs": [],
   "source": [
    "def factorize(num): \n",
    "    factors = []\n",
    "    for i in range(1, num+1):\n",
    "        if num % i == 0:\n",
    "            factors.append(i)\n",
    "    return factors\n"
   ]
  },
  {
   "cell_type": "code",
   "execution_count": 39,
   "id": "b47ba443",
   "metadata": {},
   "outputs": [
    {
     "data": {
      "text/plain": [
       "[1, 2, 5, 10]"
      ]
     },
     "execution_count": 39,
     "metadata": {},
     "output_type": "execute_result"
    }
   ],
   "source": [
    "factorize(10)"
   ]
  },
  {
   "cell_type": "code",
   "execution_count": 41,
   "id": "cdf3cf6b",
   "metadata": {},
   "outputs": [
    {
     "data": {
      "text/plain": [
       "[2, 1, 4, 3, 6]"
      ]
     },
     "execution_count": 41,
     "metadata": {},
     "output_type": "execute_result"
    }
   ],
   "source": [
    "def transform(x):\n",
    "    new_x = []\n",
    "    for i in x:\n",
    "        if i % 2 == 0:\n",
    "            new_x.append(i - 1)\n",
    "        else:\n",
    "            new_x.append(i + 1)\n",
    "    return new_x\n",
    "\n",
    "transform([1, 2, 3, 4, 5])"
   ]
  },
  {
   "cell_type": "code",
   "execution_count": 43,
   "id": "47293d2f",
   "metadata": {},
   "outputs": [],
   "source": [
    "def chatroom_status(users):\n",
    "    if not users:\n",
    "        return 'no one online'\n",
    "    elif len(users)==1:\n",
    "        return users[0]+' online'\n",
    "    elif len(users)==2:\n",
    "        return users[0]+' and '+users[1]+' online'\n",
    "    else:\n",
    "        return users[0]+', '+users[1]+' and '+str(len(users)-2)+' more online'"
   ]
  },
  {
   "cell_type": "code",
   "execution_count": 46,
   "id": "f2a91139",
   "metadata": {},
   "outputs": [
    {
     "data": {
      "text/plain": [
       "'M, i and 2 more online'"
      ]
     },
     "execution_count": 46,
     "metadata": {},
     "output_type": "execute_result"
    }
   ],
   "source": [
    "chatroom_status('Mike')"
   ]
  },
  {
   "cell_type": "code",
   "execution_count": 47,
   "id": "e12f6e16",
   "metadata": {},
   "outputs": [
    {
     "name": "stdout",
     "output_type": "stream",
     "text": [
      "6\n"
     ]
    }
   ],
   "source": [
    "def sum_of_evens(m):\n",
    "    return sum(i for i in sum(m, []) if i % 2 == 0)\n",
    "\n",
    "print(sum_of_evens([\n",
    "  [1, 0, 2],\n",
    "  [5, 5, 7],\n",
    "  [9, 4, 3]\n",
    "]))\n"
   ]
  },
  {
   "cell_type": "code",
   "execution_count": 48,
   "id": "62fb1e8b",
   "metadata": {},
   "outputs": [],
   "source": [
    "def split(txt):\n",
    "    vowels = ''.join(ch for ch in txt if ch in 'aeiouAEIOU')\n",
    "    others = ''.join(ch for ch in txt if ch not in 'aeiouAEIOU')\n",
    "    return vowels+others"
   ]
  },
  {
   "cell_type": "code",
   "execution_count": 49,
   "id": "9fc98a9c",
   "metadata": {},
   "outputs": [
    {
     "data": {
      "text/plain": [
       "'Auinbs'"
      ]
     },
     "execution_count": 49,
     "metadata": {},
     "output_type": "execute_result"
    }
   ],
   "source": [
    "split(\"Anubis\")"
   ]
  },
  {
   "cell_type": "code",
   "execution_count": 50,
   "id": "19d59181",
   "metadata": {},
   "outputs": [],
   "source": [
    "def return_end_of_number(num):\n",
    "    str_num = str(num)\n",
    "    if(str_num[-1] == '1'):\n",
    "        return(str_num + \"-ST\")\n",
    "    elif(str_num[-1] == '2'):\n",
    "        return(str_num + \"-ND\")\n",
    "    elif(str_num[-1] == '3'):\n",
    "        return(str_num + \"-RD\")\n",
    "    else:\n",
    "        return(str_num + \"-TH\")"
   ]
  },
  {
   "cell_type": "code",
   "execution_count": 51,
   "id": "0a8d405e",
   "metadata": {},
   "outputs": [
    {
     "data": {
      "text/plain": [
       "'7-TH'"
      ]
     },
     "execution_count": 51,
     "metadata": {},
     "output_type": "execute_result"
    }
   ],
   "source": [
    "return_end_of_number(7)"
   ]
  },
  {
   "cell_type": "code",
   "execution_count": 52,
   "id": "4365151d",
   "metadata": {},
   "outputs": [],
   "source": [
    "def century(year):\n",
    "    century_no = str((year + 99 ) // 100)\n",
    "    return '21st century' if century_no == '21' else century_no + 'the century'"
   ]
  },
  {
   "cell_type": "code",
   "execution_count": 54,
   "id": "5b0aee2a",
   "metadata": {},
   "outputs": [
    {
     "data": {
      "text/plain": [
       "'19the century'"
      ]
     },
     "execution_count": 54,
     "metadata": {},
     "output_type": "execute_result"
    }
   ],
   "source": [
    "century(1900)"
   ]
  },
  {
   "cell_type": "code",
   "execution_count": 58,
   "id": "093cafce",
   "metadata": {},
   "outputs": [],
   "source": [
    "def pos_neg_sort(x): \n",
    "    pos = sorted([i for i in x if i>0],reverse=True)\n",
    "    return [pos.pop() if j>0 else j for j in x]\n"
   ]
  },
  {
   "cell_type": "code",
   "execution_count": 63,
   "id": "0581080e",
   "metadata": {
    "scrolled": true
   },
   "outputs": [],
   "source": [
    "def check(X):\n",
    "    if sorted(set(X)) == lst:\n",
    "        return 'increasing'\n",
    "    if sorted(set(X),reverse=True) == X:\n",
    "        return 'decreasing'\n",
    "        return 'neither'"
   ]
  },
  {
   "cell_type": "code",
   "execution_count": 65,
   "id": "f5427895",
   "metadata": {},
   "outputs": [],
   "source": [
    "def final_direction(initial, turns):\n",
    "    d = ['N', 'E', 'S', 'W']\n",
    "    return d[(d.index(initial) + sum([1 if i == 'R' else -1 for i in turns]))%4]"
   ]
  },
  {
   "cell_type": "code",
   "execution_count": 86,
   "id": "1f00cab4",
   "metadata": {},
   "outputs": [],
   "source": [
    "lst1= [3, 5, 8, 9, 2, 2, 4]\n",
    "lst2= [1, 7, 2, 2, 4]"
   ]
  },
  {
   "cell_type": "code",
   "execution_count": 87,
   "id": "b62ccfde",
   "metadata": {},
   "outputs": [
    {
     "data": {
      "text/plain": [
       "[3, 1]"
      ]
     },
     "execution_count": 87,
     "metadata": {},
     "output_type": "execute_result"
    }
   ],
   "source": [
    "def zipper(lst1, lst2):\n",
    "    if lst1 == lst2:\n",
    "        return True\n",
    "    elif lst1[-1] != lst2[-1]:\n",
    "        return False\n",
    "    for i in range(2, len(lst1) + 1):\n",
    "        if lst1[-i] != lst2[-i]:\n",
    "            return [len(lst1) - i, len(lst2) - i]\n",
    "zipper(lst1, lst2)"
   ]
  },
  {
   "cell_type": "code",
   "execution_count": 89,
   "id": "824d2925",
   "metadata": {},
   "outputs": [],
   "source": [
    "def free_shipping(order):\n",
    "    return sum(order.values())>=100"
   ]
  },
  {
   "cell_type": "code",
   "execution_count": 90,
   "id": "eb9d6311",
   "metadata": {},
   "outputs": [
    {
     "data": {
      "text/plain": [
       "18000"
      ]
     },
     "execution_count": 90,
     "metadata": {},
     "output_type": "execute_result"
    }
   ],
   "source": [
    "def H_into_M(x):\n",
    "    return x*60*60\n",
    "H_into_M(5)"
   ]
  },
  {
   "cell_type": "code",
   "execution_count": 91,
   "id": "168a5ace",
   "metadata": {},
   "outputs": [],
   "source": [
    "def sum_digits(*n):\n",
    "    return sum(int(i) for i in str(sum(n)))\n",
    "def carry_digits(n1, n2):\n",
    "    return (sum_digits(n1) + sum_digits(n2) - sum_digits(n1, n2)) // 9"
   ]
  },
  {
   "cell_type": "code",
   "execution_count": 92,
   "id": "51cb4bef",
   "metadata": {},
   "outputs": [
    {
     "data": {
      "text/plain": [
       "75.0"
      ]
     },
     "execution_count": 92,
     "metadata": {},
     "output_type": "execute_result"
    }
   ],
   "source": [
    "def triang_area(y,z):\n",
    "    return(y * z)/2\n",
    "triang_area(10,15)"
   ]
  },
  {
   "cell_type": "code",
   "execution_count": 93,
   "id": "ef485389",
   "metadata": {},
   "outputs": [
    {
     "name": "stdout",
     "output_type": "stream",
     "text": [
      "[1, 2, 3, 4, 5, 6, 7, 8, 9]\n",
      "[3, 4, 5, 6, 7, 8, 9, 1, 2]\n",
      "[9, 1, 2, 3, 4, 5, 6, 7, 8]\n"
     ]
    }
   ],
   "source": [
    "def cyc_shift(x, steps):\n",
    "    if steps < 0 :\n",
    "        steps = abs(steps)\n",
    "        for i in range(steps):\n",
    "            x.append(x.pop(0)) \n",
    "    else:\n",
    "        for i in range(steps):\n",
    "            x.insert(0, x.pop())          \n",
    "nums =[1, 2, 3, 4, 5, 6, 7, 8, 9]\n",
    "print(nums)\n",
    "cyc_shift(nums, -2)\n",
    "print(nums)\n",
    "cyc_shift(nums, 3)\n",
    "print(nums)"
   ]
  },
  {
   "cell_type": "code",
   "execution_count": 94,
   "id": "2737a524",
   "metadata": {},
   "outputs": [
    {
     "data": {
      "text/plain": [
       "'The number is even'"
      ]
     },
     "execution_count": 94,
     "metadata": {},
     "output_type": "execute_result"
    }
   ],
   "source": [
    "def even_or_odd(x):\n",
    "    if x % 2 == 0:\n",
    "        return \"The number is even\"\n",
    "    else:\n",
    "        return \"The number is odd\"\n",
    "even_or_odd(988779)\n",
    "even_or_odd(255778)"
   ]
  },
  {
   "cell_type": "code",
   "execution_count": 95,
   "id": "152b78d9",
   "metadata": {},
   "outputs": [
    {
     "data": {
      "text/plain": [
       "348100"
      ]
     },
     "execution_count": 95,
     "metadata": {},
     "output_type": "execute_result"
    }
   ],
   "source": [
    "def x_ex(x):\n",
    "    return x*x\n",
    "\n",
    "\n",
    "x_ex(85)\n",
    "x_ex(590)"
   ]
  },
  {
   "cell_type": "code",
   "execution_count": 96,
   "id": "b12641b3",
   "metadata": {},
   "outputs": [
    {
     "data": {
      "text/plain": [
       "'75.0%'"
      ]
     },
     "execution_count": 96,
     "metadata": {},
     "output_type": "execute_result"
    }
   ],
   "source": [
    "def profit(merchant_price, customer_price): \n",
    "    return str(round((customer_price - merchant_price) / customer_price*100,1))+'%' \n",
    "profit(50, 50)\n",
    "profit(30, 70)\n",
    "profit(20, 80)"
   ]
  },
  {
   "cell_type": "code",
   "execution_count": 97,
   "id": "6146859b",
   "metadata": {},
   "outputs": [
    {
     "data": {
      "text/plain": [
       "True"
      ]
     },
     "execution_count": 97,
     "metadata": {},
     "output_type": "execute_result"
    }
   ],
   "source": [
    "def less_than_100(a, b): \n",
    "    return a + b < 100\n",
    "less_than_100(50,50)\n",
    "less_than_100(50,30)"
   ]
  },
  {
   "cell_type": "code",
   "execution_count": 102,
   "id": "4c67a175",
   "metadata": {},
   "outputs": [],
   "source": [
    "def add_nums(nums):\n",
    "    return eval(nums.replace(\", \", \"+\"))"
   ]
  },
  {
   "cell_type": "code",
   "execution_count": 112,
   "id": "ab3dbf33",
   "metadata": {},
   "outputs": [],
   "source": [
    "def get_decimal_places(n):\n",
    "    return len(n[n.find('.'):]) - 1"
   ]
  },
  {
   "cell_type": "code",
   "execution_count": 116,
   "id": "cd246663",
   "metadata": {},
   "outputs": [],
   "source": [
    "def notbut():\n",
    "    for num in range(1,1001):\n",
    "        msg = ''\n",
    "        if num % 3 == 0:\n",
    "            msg += 'not'\n",
    "        if num % 5 == 0:\n",
    "            msg += 'but'\n",
    "        if not msg:\n",
    "            msg = str(num)\n",
    "        print (msg)"
   ]
  },
  {
   "cell_type": "code",
   "execution_count": 120,
   "id": "28a757d5",
   "metadata": {},
   "outputs": [
    {
     "data": {
      "text/plain": [
       "['Bob', 'Charles', 'Trev']"
      ]
     },
     "execution_count": 120,
     "metadata": {},
     "output_type": "execute_result"
    }
   ],
   "source": [
    "def remove_indices(mylist, idxs):\n",
    "    result = []\n",
    "    for i, l in enumerate(mylist):\n",
    "        if i not in idxs:\n",
    "            result.append(l)\n",
    "    return result\n",
    "remove_indices([\"John\", \"Bob\", \"Charles\", \"Trev\"], [0])"
   ]
  },
  {
   "cell_type": "code",
   "execution_count": 122,
   "id": "75d4a426",
   "metadata": {},
   "outputs": [
    {
     "data": {
      "text/plain": [
       "[1, 2, 3, 4, 5, 6, 7]"
      ]
     },
     "execution_count": 122,
     "metadata": {},
     "output_type": "execute_result"
    }
   ],
   "source": [
    "x = [1, 'so', 2, 'too', 3, 'but', 4, 'soon', 5, 'every', 6, 'non', 7, 'right']\n",
    "def choose_only_integers(x):\n",
    "    return [i for i in x if type(i)==int]\n",
    "\n",
    "choose_only_integers(x)"
   ]
  },
  {
   "cell_type": "code",
   "execution_count": 125,
   "id": "b75cc948",
   "metadata": {},
   "outputs": [
    {
     "data": {
      "text/plain": [
       "'We all love nohtyp'"
      ]
     },
     "execution_count": 125,
     "metadata": {},
     "output_type": "execute_result"
    }
   ],
   "source": [
    "def reverse_sp_word(st, p):\n",
    "    st = st.split()\n",
    "    return ' '.join(word[::-1] if word.startswith('p') else word for word in st)\n",
    "   \n",
    "reverse_sp_word('We all love python', 'l')"
   ]
  },
  {
   "cell_type": "code",
   "execution_count": 126,
   "id": "08ef44db",
   "metadata": {},
   "outputs": [
    {
     "data": {
      "text/plain": [
       "True"
      ]
     },
     "execution_count": 126,
     "metadata": {},
     "output_type": "execute_result"
    }
   ],
   "source": [
    "def double_letters(word):\n",
    "    return any(letter*2 in word for letter in word)\n",
    "double_letters('moon')\n",
    "double_letters('fly')\n",
    "double_letters('loop')\n",
    "double_letters('programming')"
   ]
  },
  {
   "cell_type": "code",
   "execution_count": 129,
   "id": "543b551c",
   "metadata": {},
   "outputs": [
    {
     "data": {
      "text/plain": [
       "['nicely', 'strongly', 'cutely']"
      ]
     },
     "execution_count": 129,
     "metadata": {},
     "output_type": "execute_result"
    }
   ],
   "source": [
    "adjectives = ['nice','strong', 'cute']\n",
    "def add_adverb_ending(adjectives, ending):\n",
    "    return [word + ending for word in adjectives]\n",
    "add_adverb_ending(adjectives, 'ly')"
   ]
  },
  {
   "cell_type": "code",
   "execution_count": 133,
   "id": "9ec6e363",
   "metadata": {
    "collapsed": true
   },
   "outputs": [
    {
     "ename": "TypeError",
     "evalue": "sum_of_cubes() takes 1 positional argument but 2 were given",
     "output_type": "error",
     "traceback": [
      "\u001b[1;31m---------------------------------------------------------------------------\u001b[0m",
      "\u001b[1;31mTypeError\u001b[0m                                 Traceback (most recent call last)",
      "Cell \u001b[1;32mIn[133], line 3\u001b[0m\n\u001b[0;32m      1\u001b[0m \u001b[38;5;28;01mdef\u001b[39;00m \u001b[38;5;21msum_of_cubes\u001b[39m(nums):\n\u001b[0;32m      2\u001b[0m     \u001b[38;5;28;01mreturn\u001b[39;00m \u001b[38;5;28msum\u001b[39m(n\u001b[38;5;241m*\u001b[39m\u001b[38;5;241m*\u001b[39m\u001b[38;5;241m3\u001b[39m \u001b[38;5;28;01mfor\u001b[39;00m n \u001b[38;5;129;01min\u001b[39;00m nums)\n\u001b[1;32m----> 3\u001b[0m \u001b[43msum_of_cubes\u001b[49m\u001b[43m(\u001b[49m\u001b[38;5;241;43m1\u001b[39;49m\u001b[43m,\u001b[49m\u001b[38;5;241;43m3\u001b[39;49m\u001b[43m)\u001b[49m\n",
      "\u001b[1;31mTypeError\u001b[0m: sum_of_cubes() takes 1 positional argument but 2 were given"
     ]
    }
   ],
   "source": [
    "def sum_of_cubes(nums):\n",
    "    return sum(n**3 for n in nums)\n"
   ]
  },
  {
   "cell_type": "code",
   "execution_count": 134,
   "id": "1666553b",
   "metadata": {},
   "outputs": [],
   "source": [
    "import random"
   ]
  },
  {
   "cell_type": "code",
   "execution_count": 136,
   "id": "0a9ac080",
   "metadata": {
    "collapsed": true
   },
   "outputs": [
    {
     "name": "stdout",
     "output_type": "stream",
     "text": [
      "_ _ _ _ _ _ _ _\n",
      "Guess a letter: a\n",
      "_ a _ _ _ a _ _\n",
      "Guess a letter: a\n",
      "_ a _ _ _ a _ _\n",
      "Guess a letter: a\n",
      "_ a _ _ _ a _ _\n",
      "Guess a letter: a\n",
      "_ a _ _ _ a _ _\n",
      "Guess a letter: aa\n",
      "Incorrect. You have 5 guesses left.\n",
      "_ a _ _ _ a _ _\n",
      "Guess a letter: a\n",
      "_ a _ _ _ a _ _\n",
      "Guess a letter: a\n",
      "_ a _ _ _ a _ _\n",
      "Guess a letter: s\n",
      "Incorrect. You have 4 guesses left.\n",
      "_ a _ _ _ a _ _\n",
      "Guess a letter: d\n",
      "Incorrect. You have 3 guesses left.\n",
      "_ a _ _ _ a _ _\n",
      "Guess a letter: f\n",
      "Incorrect. You have 2 guesses left.\n",
      "_ a _ _ _ a _ _\n",
      "Guess a letter: g\n",
      "_ a _ g _ a g _\n",
      "Guess a letter: q\n",
      "Incorrect. You have 1 guesses left.\n",
      "_ a _ g _ a g _\n",
      "Guess a letter: f\n",
      "Incorrect. You have 0 guesses left.\n",
      "You lost. The word was: language\n"
     ]
    }
   ],
   "source": [
    "import random\n",
    "\n",
    "# List of words to choose from\n",
    "word_list = [\"python\", \"programming\", \"language\", \"computer\", \"science\"]\n",
    "\n",
    "# Randomly select a word from the list\n",
    "word = random.choice(word_list)\n",
    "\n",
    "# Create a list of underscores the same length as the selected word\n",
    "word_progress = [\"_\" for i in range(len(word))]\n",
    "\n",
    "# Maximum number of allowed incorrect guesses\n",
    "max_incorrect_guesses = 6\n",
    "\n",
    "# Keep track of the number of incorrect guesses\n",
    "incorrect_guesses = 0\n",
    "\n",
    "# Keep playing the game until either the word is completed or the maximum number of incorrect guesses is reached\n",
    "while \"_\" in word_progress and incorrect_guesses < max_incorrect_guesses:\n",
    "    # Print the current word progress\n",
    "    print(\" \".join(word_progress))\n",
    "\n",
    "    # Ask the player to guess a letter\n",
    "    guess = input(\"Guess a letter: \").lower()\n",
    "\n",
    "    # Check if the guess is in the word\n",
    "    if guess in word:\n",
    "        # Replace the underscores with the correct letter in the word progress\n",
    "        for i, letter in enumerate(word):\n",
    "            if letter == guess:\n",
    "                word_progress[i] = guess\n",
    "    else:\n",
    "        # Increment the number of incorrect guesses\n",
    "        incorrect_guesses += 1\n",
    "\n",
    "        # Print the number of remaining incorrect guesses\n",
    "        print(f\"Incorrect. You have {max_incorrect_guesses - incorrect_guesses} guesses left.\")\n",
    "\n",
    "# Check if the word was completed\n",
    "if \"_\" not in word_progress:\n",
    "    print(\"You won! The word was: \" + word)\n",
    "else:\n",
    "    print(\"You lost. The word was: \" + word)\n"
   ]
  },
  {
   "cell_type": "code",
   "execution_count": null,
   "id": "328602d3",
   "metadata": {},
   "outputs": [],
   "source": []
  }
 ],
 "metadata": {
  "kernelspec": {
   "display_name": "Python 3 (ipykernel)",
   "language": "python",
   "name": "python3"
  },
  "language_info": {
   "codemirror_mode": {
    "name": "ipython",
    "version": 3
   },
   "file_extension": ".py",
   "mimetype": "text/x-python",
   "name": "python",
   "nbconvert_exporter": "python",
   "pygments_lexer": "ipython3",
   "version": "3.11.1"
  }
 },
 "nbformat": 4,
 "nbformat_minor": 5
}

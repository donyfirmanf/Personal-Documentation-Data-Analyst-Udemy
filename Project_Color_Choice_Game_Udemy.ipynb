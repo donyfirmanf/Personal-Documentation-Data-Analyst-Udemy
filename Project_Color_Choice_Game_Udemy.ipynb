{
  "nbformat": 4,
  "nbformat_minor": 0,
  "metadata": {
    "colab": {
      "provenance": [],
      "authorship_tag": "ABX9TyOogcKJtuYycTvbfguUEFYM",
      "include_colab_link": true
    },
    "kernelspec": {
      "name": "python3",
      "display_name": "Python 3"
    },
    "language_info": {
      "name": "python"
    }
  },
  "cells": [
    {
      "cell_type": "markdown",
      "metadata": {
        "id": "view-in-github",
        "colab_type": "text"
      },
      "source": [
        "<a href=\"https://colab.research.google.com/github/donyfirmanf/Personal-Documentation-Data-Analyst-Udemy/blob/main/Project_Color_Choice_Game_Udemy.ipynb\" target=\"_parent\"><img src=\"https://colab.research.google.com/assets/colab-badge.svg\" alt=\"Open In Colab\"/></a>"
      ]
    },
    {
      "cell_type": "code",
      "source": [
        "import random"
      ],
      "metadata": {
        "id": "zkA4bgE02nFt"
      },
      "execution_count": 7,
      "outputs": []
    },
    {
      "cell_type": "code",
      "execution_count": null,
      "metadata": {
        "id": "2iBECAcZ14AA"
      },
      "outputs": [],
      "source": [
        "print(\"Winning Rules of the Color choiceGame as follow:\"+ \"n\\Enter number one to five and match computer choice to Win\")\n",
        "computer_score = 0\n",
        "player_score = 0\n",
        "\n",
        "while True:\n",
        "  print(\"red= 1 \\nyellow = 2 \\norange = 3 \\ngreen = 4 \\nblue = 5 \\ntake a turn:\")\n",
        "\n",
        "  #take the inputfrom user\n",
        "  player_choice = int(input(\"User turn: \"))\n",
        "\n",
        "  #looping until user enter invalid input\n",
        "  while player_choice > 5 and player_choice < 1:\n",
        "    player_choice = int(input(\"enter valid input: \"))\n",
        "\n",
        "  #initialize value of player choice variable\n",
        "  if player_choice == 1:\n",
        "    choice_col = \"red\"\n",
        "  elif player_choice == 2:\n",
        "    choice_col = \"yellow\"\n",
        "  elif player_choice == 3: \n",
        "    choice_col = \"orange\"\n",
        "  elif player_choice == 4:\n",
        "    choice_col = \"green\"\n",
        "  else:\n",
        "    choice_col = \"blue\"\n",
        "\n",
        "\n",
        "  #print user choice\n",
        "  print(\"User color choice is: \" + choice_col)\n",
        "  print(\"\\nNow its computer turn to choose a color. . . .\")\n",
        "\n",
        "  #computer choose randomly any number\n",
        "  computer_choice = random.randint(1,5)\n",
        "\n",
        "  #looping when comp choice equal with player choice\n",
        "  while computer_choice == player_choice:\n",
        "    computer_choice = random.randint(1,5)\n",
        "\n",
        "  #initialize value of player choice variable\n",
        "  if computer_choice == 1:\n",
        "    compu_choice_col = \"red\"\n",
        "  elif computer_choice == 2:\n",
        "    compu_choice_col = \"yellow\"\n",
        "  elif computer_choice == 3: \n",
        "    compu_choice_col = \"orange\"\n",
        "  elif computer_choice == 4:\n",
        "    compu_choice_col = \"green\"\n",
        "  else:\n",
        "    compu_choice_col = \"blue\"\n",
        "\n",
        "  #print user choice\n",
        "  print(\"User color choice is: \" + compu_choice_col)\n",
        "\n",
        "  #winning condition\n",
        "  if (choice_col == compu_choice_col):\n",
        "    player_score += 1\n",
        "    print(\"player_score: \"+str(player_score))\n",
        "    print(\"computer_score: \"+str(computer_score))\n",
        "  else:\n",
        "    computer_score += 1\n",
        "    print(\"player_score: \"+str(player_score))\n",
        "    print(\"computer_score: \"+str(computer_score))\n",
        "  print(\"Do you want to play again? (Y/N)\")\n",
        "  answer = input()\n",
        "\n",
        "\n",
        "  #condition if player continue/stop the game\n",
        "  if answer == \"n\" or answer == \"N\":\n",
        "    break\n"
      ]
    }
  ]
}